{
 "cells": [
  {
   "cell_type": "code",
   "execution_count": 1,
   "metadata": {},
   "outputs": [],
   "source": [
    "import torch\n",
    "from utils import set_seed\n",
    "from experiments import Base_Exp1, AR_Exp1, LSTM_Exp1, SFM_Exp1\n",
    "from warnings import filterwarnings\n",
    "\n",
    "filterwarnings(\"ignore\")\n",
    "\n",
    "steps_ahead = [1, 3, 5]"
   ]
  },
  {
   "cell_type": "markdown",
   "metadata": {},
   "source": [
    "# Base Model"
   ]
  },
  {
   "cell_type": "code",
   "execution_count": 2,
   "metadata": {},
   "outputs": [
    {
     "name": "stdout",
     "output_type": "stream",
     "text": [
      "Mean Squared Error for Base Model(1): 5.62\n",
      "Mean Squared Error for Base Model(3): 17.40\n",
      "Mean Squared Error for Base Model(5): 28.73\n"
     ]
    }
   ],
   "source": [
    "for step in steps_ahead:\n",
    "    mse = Base_Exp1(step)\n",
    "    print(f\"Mean Squared Error for Base Model({step}): {mse:0.2f}\")"
   ]
  },
  {
   "cell_type": "markdown",
   "metadata": {},
   "source": [
    "# AR Model"
   ]
  },
  {
   "cell_type": "code",
   "execution_count": 3,
   "metadata": {},
   "outputs": [
    {
     "name": "stdout",
     "output_type": "stream",
     "text": [
      "Mean Squared Error for AR(1): 5.71\n",
      "Mean Squared Error for AR(3): 17.82\n",
      "Mean Squared Error for AR(5): 29.37\n"
     ]
    }
   ],
   "source": [
    "for step in steps_ahead:\n",
    "    mse = AR_Exp1(step)\n",
    "    print(f\"Mean Squared Error for AR({step}): {mse:0.2f}\")"
   ]
  },
  {
   "cell_type": "markdown",
   "metadata": {},
   "source": [
    "# LSTM model"
   ]
  },
  {
   "cell_type": "code",
   "execution_count": 4,
   "metadata": {},
   "outputs": [
    {
     "name": "stdout",
     "output_type": "stream",
     "text": [
      "Mean Squared Error for LSTM Model(1): 5.66\n",
      "Mean Squared Error for LSTM Model(3): 17.46\n",
      "Mean Squared Error for LSTM Model(5): 32.46\n"
     ]
    }
   ],
   "source": [
    "set_seed(2024)\n",
    "hidden_dim = 10\n",
    "lr = 0.01\n",
    "epochs = 4000\n",
    "device = torch.device('cuda' if torch.cuda.is_available() else 'cpu')\n",
    "\n",
    "for step in steps_ahead:\n",
    "    # load model for time saving\n",
    "    mse = LSTM_Exp1(steps_ahead=step,\n",
    "                    hidden_dim=hidden_dim,\n",
    "                    lr=lr,\n",
    "                    epochs=epochs,\n",
    "                    device=device,\n",
    "                    load_model=True) # if you want to train the model set false\n",
    "    print(f\"Mean Squared Error for LSTM Model({step}): {mse:0.2f}\")"
   ]
  },
  {
   "cell_type": "markdown",
   "metadata": {},
   "source": [
    "# SFM Model"
   ]
  },
  {
   "cell_type": "code",
   "execution_count": null,
   "metadata": {},
   "outputs": [
    {
     "name": "stdout",
     "output_type": "stream",
     "text": [
      "Mean Squared Error for SFM Model(1): 5.72\n",
      "Mean Squared Error for SFM Model(3): 17.11\n",
      "Mean Squared Error for SFM Model(5): 30.68\n"
     ]
    }
   ],
   "source": [
    "set_seed(2024)\n",
    "freq_dim = 10\n",
    "hidden_dim = 10\n",
    "device = \"cpu\"\n",
    "lr = 0.01\n",
    "epochs = 4000\n",
    "\n",
    "for step in steps_ahead:\n",
    "    # load model for time saving\n",
    "    mse = SFM_Exp1(steps_ahead=step,\n",
    "                   freq_dim=freq_dim,\n",
    "                   hidden_dim=hidden_dim,\n",
    "                   lr=lr,\n",
    "                   epochs=epochs,\n",
    "                   device=device,\n",
    "                   load_model=True) # if you want to train the model set false\n",
    "    print(f\"Mean Squared Error for SFM Model({step}): {mse:0.2f}\")"
   ]
  }
 ],
 "metadata": {
  "kernelspec": {
   "display_name": ".venv",
   "language": "python",
   "name": "python3"
  },
  "language_info": {
   "codemirror_mode": {
    "name": "ipython",
    "version": 3
   },
   "file_extension": ".py",
   "mimetype": "text/x-python",
   "name": "python",
   "nbconvert_exporter": "python",
   "pygments_lexer": "ipython3",
   "version": "3.12.1"
  }
 },
 "nbformat": 4,
 "nbformat_minor": 2
}
