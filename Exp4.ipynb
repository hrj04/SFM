{
 "cells": [
  {
   "cell_type": "code",
   "execution_count": 1,
   "metadata": {},
   "outputs": [],
   "source": [
    "import torch\n",
    "from utils import set_seed\n",
    "from experiments import SFM_Exp4\n",
    "from warnings import filterwarnings\n",
    "\n",
    "filterwarnings(\"ignore\")\n"
   ]
  },
  {
   "cell_type": "code",
   "execution_count": 2,
   "metadata": {},
   "outputs": [
    {
     "name": "stdout",
     "output_type": "stream",
     "text": [
      "Mean Squared Error for SFM Model(step : 1, hiddne_dim : 10): 5.75\n",
      "Mean Squared Error for SFM Model(step : 1, hiddne_dim : 20): 5.70\n",
      "Mean Squared Error for SFM Model(step : 1, hiddne_dim : 40): 5.71\n",
      "Mean Squared Error for SFM Model(step : 1, hiddne_dim : 50): 5.61\n",
      "Mean Squared Error for SFM Model(step : 3, hiddne_dim : 10): 17.68\n",
      "Mean Squared Error for SFM Model(step : 3, hiddne_dim : 20): 17.14\n",
      "Mean Squared Error for SFM Model(step : 3, hiddne_dim : 40): 17.91\n",
      "Mean Squared Error for SFM Model(step : 3, hiddne_dim : 50): 17.21\n",
      "Mean Squared Error for SFM Model(step : 5, hiddne_dim : 10): 28.11\n",
      "Mean Squared Error for SFM Model(step : 5, hiddne_dim : 20): 28.06\n",
      "Mean Squared Error for SFM Model(step : 5, hiddne_dim : 40): 30.33\n",
      "Mean Squared Error for SFM Model(step : 5, hiddne_dim : 50): 28.54\n"
     ]
    }
   ],
   "source": [
    "set_seed(2024)\n",
    "steps_ahead = [1, 3, 5]\n",
    "freq_dim = 10\n",
    "hidden_dims = [10, 20, 40, 50]\n",
    "device = \"cpu\"\n",
    "lr = 0.01\n",
    "epochs = 1500\n",
    "\n",
    "for step in steps_ahead:\n",
    "    # load model for time saving\n",
    "    for hidden_dim in hidden_dims:\n",
    "        mse = SFM_Exp4(steps_ahead=step,\n",
    "                    freq_dim=freq_dim,\n",
    "                    hidden_dim=hidden_dim,\n",
    "                    lr=lr,\n",
    "                    epochs=epochs,\n",
    "                    device=device,\n",
    "                    load_model=True) # if you want to train the model set false\n",
    "        print(f\"Mean Squared Error for SFM Model(step : {step}, hiddne_dim : {hidden_dim}): {mse:0.2f}\")"
   ]
  }
 ],
 "metadata": {
  "kernelspec": {
   "display_name": ".venv",
   "language": "python",
   "name": "python3"
  },
  "language_info": {
   "codemirror_mode": {
    "name": "ipython",
    "version": 3
   },
   "file_extension": ".py",
   "mimetype": "text/x-python",
   "name": "python",
   "nbconvert_exporter": "python",
   "pygments_lexer": "ipython3",
   "version": "3.12.1"
  }
 },
 "nbformat": 4,
 "nbformat_minor": 2
}
