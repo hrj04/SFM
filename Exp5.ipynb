{
 "cells": [
  {
   "cell_type": "code",
   "execution_count": 1,
   "metadata": {},
   "outputs": [],
   "source": [
    "import torch\n",
    "from utils import set_seed\n",
    "from experiments import SFM_Exp5\n",
    "from warnings import filterwarnings\n",
    "\n",
    "filterwarnings(\"ignore\")\n"
   ]
  },
  {
   "cell_type": "code",
   "execution_count": 2,
   "metadata": {},
   "outputs": [
    {
     "name": "stdout",
     "output_type": "stream",
     "text": [
      "Mean Squared Error for SFM Model(step : 1, frequencies : 5): 5.61\n",
      "Mean Squared Error for SFM Model(step : 1, frequencies : 10): 5.69\n",
      "Mean Squared Error for SFM Model(step : 1, frequencies : 15): 5.59\n",
      "Mean Squared Error for SFM Model(step : 1, frequencies : 20): 5.61\n",
      "Mean Squared Error for SFM Model(step : 3, frequencies : 5): 18.00\n",
      "Mean Squared Error for SFM Model(step : 3, frequencies : 10): 17.10\n",
      "Mean Squared Error for SFM Model(step : 3, frequencies : 15): 17.35\n",
      "Mean Squared Error for SFM Model(step : 3, frequencies : 20): 17.88\n",
      "Mean Squared Error for SFM Model(step : 5, frequencies : 5): 28.72\n",
      "Mean Squared Error for SFM Model(step : 5, frequencies : 10): 28.53\n",
      "Mean Squared Error for SFM Model(step : 5, frequencies : 15): 28.87\n",
      "Mean Squared Error for SFM Model(step : 5, frequencies : 20): 28.44\n"
     ]
    }
   ],
   "source": [
    "set_seed(2024)\n",
    "steps_ahead = [1, 3, 5]\n",
    "freq_dims = [5, 10, 15, 20]\n",
    "hidden_dim = 50\n",
    "device = \"cpu\"\n",
    "lr = 0.01\n",
    "epochs = 1500\n",
    "\n",
    "for step in steps_ahead:\n",
    "    # load model for time saving\n",
    "    for freq_dim in freq_dims:\n",
    "        mse = SFM_Exp5(steps_ahead=step,\n",
    "                    freq_dim=freq_dim,\n",
    "                    hidden_dim=hidden_dim,\n",
    "                    lr=lr,\n",
    "                    epochs=epochs,\n",
    "                    device=device,\n",
    "                    load_model=True) # if you want to train the model set false\n",
    "        print(f\"Mean Squared Error for SFM Model(step : {step}, frequencies : {freq_dim}): {mse:0.2f}\")"
   ]
  }
 ],
 "metadata": {
  "kernelspec": {
   "display_name": ".venv",
   "language": "python",
   "name": "python3"
  },
  "language_info": {
   "codemirror_mode": {
    "name": "ipython",
    "version": 3
   },
   "file_extension": ".py",
   "mimetype": "text/x-python",
   "name": "python",
   "nbconvert_exporter": "python",
   "pygments_lexer": "ipython3",
   "version": "3.12.1"
  }
 },
 "nbformat": 4,
 "nbformat_minor": 2
}
