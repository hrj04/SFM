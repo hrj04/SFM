{
 "cells": [
  {
   "cell_type": "code",
   "execution_count": 1,
   "metadata": {},
   "outputs": [],
   "source": [
    "import torch\n",
    "from utils import set_seed\n",
    "from experiments import AR_Exp2\n",
    "from warnings import filterwarnings\n",
    "\n",
    "filterwarnings(\"ignore\")\n"
   ]
  },
  {
   "cell_type": "code",
   "execution_count": 2,
   "metadata": {},
   "outputs": [
    {
     "name": "stdout",
     "output_type": "stream",
     "text": [
      "Mean Squared Error for AR(step : 1, lags : 3): 5.67\n",
      "Mean Squared Error for AR(step : 1, lags : 5): 5.71\n",
      "Mean Squared Error for AR(step : 1, lags : 10): 5.74\n",
      "Mean Squared Error for AR(step : 1, lags : 15): 5.78\n",
      "Mean Squared Error for AR(step : 1, lags : 20): 5.81\n",
      "Mean Squared Error for AR(step : 3, lags : 3): 17.71\n",
      "Mean Squared Error for AR(step : 3, lags : 5): 17.82\n",
      "Mean Squared Error for AR(step : 3, lags : 10): 17.90\n",
      "Mean Squared Error for AR(step : 3, lags : 15): 18.02\n",
      "Mean Squared Error for AR(step : 3, lags : 20): 18.16\n",
      "Mean Squared Error for AR(step : 5, lags : 3): 29.31\n",
      "Mean Squared Error for AR(step : 5, lags : 5): 29.37\n",
      "Mean Squared Error for AR(step : 5, lags : 10): 29.63\n",
      "Mean Squared Error for AR(step : 5, lags : 15): 29.89\n",
      "Mean Squared Error for AR(step : 5, lags : 20): 29.99\n"
     ]
    }
   ],
   "source": [
    "steps_ahead = [1, 3, 5]\n",
    "lags = [3, 5, 10, 15, 20]\n",
    "for step in steps_ahead:\n",
    "    for lag in lags:\n",
    "        mse = AR_Exp2(step, lag)\n",
    "        print(f\"Mean Squared Error for AR(step : {step}, lags : {lag}): {mse:0.2f}\")"
   ]
  }
 ],
 "metadata": {
  "kernelspec": {
   "display_name": ".venv",
   "language": "python",
   "name": "python3"
  },
  "language_info": {
   "codemirror_mode": {
    "name": "ipython",
    "version": 3
   },
   "file_extension": ".py",
   "mimetype": "text/x-python",
   "name": "python",
   "nbconvert_exporter": "python",
   "pygments_lexer": "ipython3",
   "version": "3.12.1"
  }
 },
 "nbformat": 4,
 "nbformat_minor": 2
}
