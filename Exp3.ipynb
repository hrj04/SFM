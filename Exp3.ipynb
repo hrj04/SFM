{
 "cells": [
  {
   "cell_type": "code",
   "execution_count": 1,
   "metadata": {},
   "outputs": [],
   "source": [
    "import torch\n",
    "from utils import set_seed\n",
    "from experiments import LSTM_Exp3\n",
    "from warnings import filterwarnings\n",
    "\n",
    "filterwarnings(\"ignore\")\n"
   ]
  },
  {
   "cell_type": "code",
   "execution_count": 2,
   "metadata": {},
   "outputs": [
    {
     "name": "stderr",
     "output_type": "stream",
     "text": [
      "Step: 1, Train Loss: 0.0008, Val Loss: 0.001: 100%|██████████| 4000/4000 [00:22<00:00, 181.06it/s]   \n"
     ]
    },
    {
     "name": "stdout",
     "output_type": "stream",
     "text": [
      "Mean Squared Error for LSTM Model(step : 1, hiddne_dim : 10): 5.68\n"
     ]
    },
    {
     "name": "stderr",
     "output_type": "stream",
     "text": [
      "Step: 1, Train Loss: 0.0008, Val Loss: 0.001: 100%|██████████| 4000/4000 [00:23<00:00, 167.23it/s]   \n"
     ]
    },
    {
     "name": "stdout",
     "output_type": "stream",
     "text": [
      "Mean Squared Error for LSTM Model(step : 1, hiddne_dim : 20): 5.70\n"
     ]
    },
    {
     "name": "stderr",
     "output_type": "stream",
     "text": [
      "Step: 1, Train Loss: 0.0008, Val Loss: 0.00101: 100%|██████████| 4000/4000 [00:28<00:00, 140.41it/s] \n"
     ]
    },
    {
     "name": "stdout",
     "output_type": "stream",
     "text": [
      "Mean Squared Error for LSTM Model(step : 1, hiddne_dim : 40): 5.73\n"
     ]
    },
    {
     "name": "stderr",
     "output_type": "stream",
     "text": [
      "Step: 1, Train Loss: 0.00079, Val Loss: 0.00101: 100%|██████████| 4000/4000 [00:30<00:00, 130.22it/s]\n"
     ]
    },
    {
     "name": "stdout",
     "output_type": "stream",
     "text": [
      "Mean Squared Error for LSTM Model(step : 1, hiddne_dim : 50): 5.72\n"
     ]
    },
    {
     "name": "stderr",
     "output_type": "stream",
     "text": [
      "Step: 3, Train Loss: 0.00217, Val Loss: 0.00264: 100%|██████████| 4000/4000 [00:23<00:00, 171.53it/s]\n"
     ]
    },
    {
     "name": "stdout",
     "output_type": "stream",
     "text": [
      "Mean Squared Error for LSTM Model(step : 3, hiddne_dim : 10): 18.14\n"
     ]
    },
    {
     "name": "stderr",
     "output_type": "stream",
     "text": [
      "Step: 3, Train Loss: 0.00217, Val Loss: 0.00263: 100%|██████████| 4000/4000 [00:24<00:00, 165.03it/s]\n"
     ]
    },
    {
     "name": "stdout",
     "output_type": "stream",
     "text": [
      "Mean Squared Error for LSTM Model(step : 3, hiddne_dim : 20): 18.08\n"
     ]
    },
    {
     "name": "stderr",
     "output_type": "stream",
     "text": [
      "Step: 3, Train Loss: 0.00217, Val Loss: 0.00264: 100%|██████████| 4000/4000 [00:28<00:00, 138.94it/s]\n"
     ]
    },
    {
     "name": "stdout",
     "output_type": "stream",
     "text": [
      "Mean Squared Error for LSTM Model(step : 3, hiddne_dim : 40): 18.12\n"
     ]
    },
    {
     "name": "stderr",
     "output_type": "stream",
     "text": [
      "Step: 3, Train Loss: 0.00217, Val Loss: 0.00266: 100%|██████████| 4000/4000 [00:31<00:00, 128.83it/s]\n"
     ]
    },
    {
     "name": "stdout",
     "output_type": "stream",
     "text": [
      "Mean Squared Error for LSTM Model(step : 3, hiddne_dim : 50): 18.45\n"
     ]
    },
    {
     "name": "stderr",
     "output_type": "stream",
     "text": [
      "Step: 5, Train Loss: 0.00344, Val Loss: 0.00409: 100%|██████████| 4000/4000 [00:25<00:00, 154.96it/s]\n"
     ]
    },
    {
     "name": "stdout",
     "output_type": "stream",
     "text": [
      "Mean Squared Error for LSTM Model(step : 5, hiddne_dim : 10): 30.62\n"
     ]
    },
    {
     "name": "stderr",
     "output_type": "stream",
     "text": [
      "Step: 5, Train Loss: 0.00344, Val Loss: 0.00409: 100%|██████████| 4000/4000 [00:24<00:00, 165.79it/s]\n"
     ]
    },
    {
     "name": "stdout",
     "output_type": "stream",
     "text": [
      "Mean Squared Error for LSTM Model(step : 5, hiddne_dim : 20): 30.78\n"
     ]
    },
    {
     "name": "stderr",
     "output_type": "stream",
     "text": [
      "Step: 5, Train Loss: 0.00341, Val Loss: 0.00432: 100%|██████████| 4000/4000 [00:28<00:00, 139.54it/s]\n"
     ]
    },
    {
     "name": "stdout",
     "output_type": "stream",
     "text": [
      "Mean Squared Error for LSTM Model(step : 5, hiddne_dim : 40): 31.92\n"
     ]
    },
    {
     "name": "stderr",
     "output_type": "stream",
     "text": [
      "Step: 5, Train Loss: 0.00343, Val Loss: 0.00412: 100%|██████████| 4000/4000 [00:31<00:00, 128.98it/s]\n"
     ]
    },
    {
     "name": "stdout",
     "output_type": "stream",
     "text": [
      "Mean Squared Error for LSTM Model(step : 5, hiddne_dim : 50): 30.28\n"
     ]
    }
   ],
   "source": [
    "set_seed(2024)\n",
    "steps_ahead = [1, 3, 5]\n",
    "hidden_dims = [10, 20, 40, 50]\n",
    "lr = 0.01\n",
    "epochs = 4000\n",
    "device = torch.device('cuda' if torch.cuda.is_available() else 'cpu')\n",
    "\n",
    "for step in steps_ahead:\n",
    "    # load model for time saving\n",
    "    for hidden_dim in hidden_dims:\n",
    "        mse = LSTM_Exp3(steps_ahead=step,\n",
    "                        hidden_dim=hidden_dim,\n",
    "                        lr=lr,\n",
    "                        epochs=epochs,\n",
    "                        device=device,\n",
    "                        load_model=False) # if you want to train the model set false\n",
    "        print(f\"Mean Squared Error for LSTM Model(step : {step}, hiddne_dim : {hidden_dim}): {mse:0.2f}\")"
   ]
  },
  {
   "cell_type": "code",
   "execution_count": 4,
   "metadata": {},
   "outputs": [
    {
     "name": "stdout",
     "output_type": "stream",
     "text": [
      "Mean Squared Error for LSTM Model(step : 1, hiddne_dim : 10): 5.68\n",
      "Mean Squared Error for LSTM Model(step : 1, hiddne_dim : 20): 5.70\n",
      "Mean Squared Error for LSTM Model(step : 1, hiddne_dim : 40): 5.73\n",
      "Mean Squared Error for LSTM Model(step : 1, hiddne_dim : 50): 5.72\n",
      "Mean Squared Error for LSTM Model(step : 3, hiddne_dim : 10): 18.14\n",
      "Mean Squared Error for LSTM Model(step : 3, hiddne_dim : 20): 18.08\n",
      "Mean Squared Error for LSTM Model(step : 3, hiddne_dim : 40): 18.12\n",
      "Mean Squared Error for LSTM Model(step : 3, hiddne_dim : 50): 18.45\n",
      "Mean Squared Error for LSTM Model(step : 5, hiddne_dim : 10): 30.62\n",
      "Mean Squared Error for LSTM Model(step : 5, hiddne_dim : 20): 30.78\n",
      "Mean Squared Error for LSTM Model(step : 5, hiddne_dim : 40): 31.92\n",
      "Mean Squared Error for LSTM Model(step : 5, hiddne_dim : 50): 30.28\n"
     ]
    }
   ],
   "source": [
    "set_seed(2024)\n",
    "steps_ahead = [1, 3, 5]\n",
    "hidden_dims = [10, 20, 40, 50]\n",
    "lr = 0.01\n",
    "epochs = 4000\n",
    "device = torch.device('cuda' if torch.cuda.is_available() else 'cpu')\n",
    "\n",
    "for step in steps_ahead:\n",
    "    # load model for time saving\n",
    "    for hidden_dim in hidden_dims:\n",
    "        mse = LSTM_Exp3(steps_ahead=step,\n",
    "                        hidden_dim=hidden_dim,\n",
    "                        lr=lr,\n",
    "                        epochs=epochs,\n",
    "                        device=device,\n",
    "                        load_model=True) # if you want to train the model set false\n",
    "        print(f\"Mean Squared Error for LSTM Model(step : {step}, hiddne_dim : {hidden_dim}): {mse:0.2f}\")"
   ]
  }
 ],
 "metadata": {
  "kernelspec": {
   "display_name": ".venv",
   "language": "python",
   "name": "python3"
  },
  "language_info": {
   "codemirror_mode": {
    "name": "ipython",
    "version": 3
   },
   "file_extension": ".py",
   "mimetype": "text/x-python",
   "name": "python",
   "nbconvert_exporter": "python",
   "pygments_lexer": "ipython3",
   "version": "3.12.1"
  }
 },
 "nbformat": 4,
 "nbformat_minor": 2
}
